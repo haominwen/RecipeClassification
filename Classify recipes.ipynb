{
 "cells": [
  {
   "cell_type": "code",
   "execution_count": 2,
   "metadata": {
    "collapsed": false
   },
   "outputs": [
    {
     "name": "stdout",
     "output_type": "stream",
     "text": [
      "PROGRESS: Finished parsing file C:\\Users\\Haomin\\Documents\\recipe\\train.json\n",
      "PROGRESS: Parsing completed. Parsed 1 lines in 0.577431 secs.\n"
     ]
    }
   ],
   "source": [
    "import graphlab\n",
    "recipes = graphlab.SFrame.read_json('train.json')"
   ]
  },
  {
   "cell_type": "code",
   "execution_count": 3,
   "metadata": {
    "collapsed": false
   },
   "outputs": [],
   "source": [
    "graphlab.canvas.set_target('ipynb')"
   ]
  },
  {
   "cell_type": "code",
   "execution_count": 172,
   "metadata": {
    "collapsed": false
   },
   "outputs": [],
   "source": [
    "train_data, test_data = graphlab.SFrame.random_split(recipes, 0.8, seed=0)"
   ]
  },
  {
   "cell_type": "code",
   "execution_count": 173,
   "metadata": {
    "collapsed": false
   },
   "outputs": [],
   "source": [
    "import nltk"
   ]
  },
  {
   "cell_type": "code",
   "execution_count": 174,
   "metadata": {
    "collapsed": true
   },
   "outputs": [],
   "source": [
    "recipes['ingredients_clean_string'] = [', '.join(z).strip() for z in recipes['ingredients']]  "
   ]
  },
  {
   "cell_type": "code",
   "execution_count": 175,
   "metadata": {
    "collapsed": false
   },
   "outputs": [],
   "source": [
    "import re\n",
    "recipes['ingredients_string'] = [' '.join([re.sub('[^A-Za-z0-9]', ' ', line) for line in lists]).strip() for lists in recipes['ingredients']]       "
   ]
  },
  {
   "cell_type": "code",
   "execution_count": 176,
   "metadata": {
    "collapsed": true
   },
   "outputs": [],
   "source": [
    "recipes['word_count'] = graphlab.text_analytics.count_words(recipes['ingredients_string'])"
   ]
  },
  {
   "cell_type": "code",
   "execution_count": 177,
   "metadata": {
    "collapsed": true
   },
   "outputs": [],
   "source": [
    "train_data, test_data = graphlab.SFrame.random_split(recipes, 0.8, seed = 0)"
   ]
  },
  {
   "cell_type": "code",
   "execution_count": 178,
   "metadata": {
    "collapsed": false
   },
   "outputs": [
    {
     "name": "stdout",
     "output_type": "stream",
     "text": [
      "PROGRESS: Logistic regression:\n",
      "PROGRESS: --------------------------------------------------------\n",
      "PROGRESS: Number of examples          : 31851\n",
      "PROGRESS: Number of classes           : 20\n",
      "PROGRESS: Number of feature columns   : 1\n",
      "PROGRESS: Number of unpacked features : 2929\n",
      "PROGRESS: Number of coefficients    : 55670\n",
      "PROGRESS: Starting L-BFGS\n",
      "PROGRESS: --------------------------------------------------------\n",
      "PROGRESS: +-----------+----------+-----------+--------------+-------------------+---------------------+\n",
      "PROGRESS: | Iteration | Passes   | Step size | Elapsed Time | Training-accuracy | Validation-accuracy |\n",
      "PROGRESS: +-----------+----------+-----------+--------------+-------------------+---------------------+\n",
      "PROGRESS: | 1         | 3        | 0.000031  | 0.598427     | 0.550218          | 0.541083            |\n",
      "PROGRESS: | 2         | 5        | 1.000000  | 2.301640     | 0.688236          | 0.674366            |\n",
      "PROGRESS: | 3         | 6        | 1.000000  | 3.735663     | 0.740981          | 0.717531            |\n",
      "PROGRESS: | 4         | 7        | 1.000000  | 5.115645     | 0.778217          | 0.745046            |\n",
      "PROGRESS: | 5         | 8        | 1.000000  | 6.519479     | 0.804119          | 0.762464            |\n",
      "PROGRESS: | 6         | 9        | 1.000000  | 7.935491     | 0.817714          | 0.767260            |\n",
      "PROGRESS: | 7         | 10       | 1.000000  | 9.380520     | 0.829958          | 0.767639            |\n",
      "PROGRESS: | 8         | 11       | 1.000000  | 10.813539    | 0.835076          | 0.759813            |\n",
      "PROGRESS: | 9         | 12       | 1.000000  | 12.204531    | 0.847477          | 0.768901            |\n",
      "PROGRESS: | 10        | 13       | 1.000000  | 13.614977    | 0.852093          | 0.767260            |\n",
      "PROGRESS: +-----------+----------+-----------+--------------+-------------------+---------------------+\n"
     ]
    }
   ],
   "source": [
    "word_model = graphlab.logistic_classifier.create(train_data,\n",
    "                                                target='cuisine',\n",
    "                                                features=['word_count'],\n",
    "                                                validation_set=test_data)"
   ]
  },
  {
   "cell_type": "code",
   "execution_count": 131,
   "metadata": {
    "collapsed": false
   },
   "outputs": [
    {
     "data": {
      "text/plain": [
       "{'accuracy': 0.7672598763094788, 'confusion_matrix': Columns:\n",
       " \ttarget_label\tstr\n",
       " \tpredicted_label\tstr\n",
       " \tcount\tint\n",
       " \n",
       " Rows: 266\n",
       " \n",
       " Data:\n",
       " +--------------+-----------------+-------+\n",
       " | target_label | predicted_label | count |\n",
       " +--------------+-----------------+-------+\n",
       " |   jamaican   |     russian     |   1   |\n",
       " |   japanese   |     british     |   2   |\n",
       " |   mexican    |      korean     |   2   |\n",
       " |   moroccan   |     british     |   2   |\n",
       " |    greek     |     spanish     |   2   |\n",
       " |   italian    |      indian     |   5   |\n",
       " |   chinese    |   cajun_creole  |   4   |\n",
       " |   mexican    |     spanish     |   13  |\n",
       " |   moroccan   |     spanish     |   2   |\n",
       " |   chinese    |      korean     |   18  |\n",
       " +--------------+-----------------+-------+\n",
       " [266 rows x 3 columns]\n",
       " Note: Only the head of the SFrame is printed.\n",
       " You can use print_rows(num_rows=m, num_columns=n) to print more rows and columns.}"
      ]
     },
     "execution_count": 131,
     "metadata": {},
     "output_type": "execute_result"
    }
   ],
   "source": [
    "word_model.evaluate(test_data)"
   ]
  },
  {
   "cell_type": "code",
   "execution_count": 158,
   "metadata": {
    "collapsed": false
   },
   "outputs": [
    {
     "name": "stdout",
     "output_type": "stream",
     "text": [
      "PROGRESS: Finished parsing file C:\\Users\\Haomin\\Documents\\recipe\\test.json\n",
      "PROGRESS: Parsing completed. Parsed 1 lines in 0.142085 secs.\n"
     ]
    }
   ],
   "source": [
    "test = graphlab.SFrame.read_json('test.json')"
   ]
  }
 ],
 "metadata": {
  "kernelspec": {
   "display_name": "Python 2",
   "language": "python",
   "name": "python2"
  },
  "language_info": {
   "codemirror_mode": {
    "name": "ipython",
    "version": 2
   },
   "file_extension": ".py",
   "mimetype": "text/x-python",
   "name": "python",
   "nbconvert_exporter": "python",
   "pygments_lexer": "ipython2",
   "version": "2.7.10"
  }
 },
 "nbformat": 4,
 "nbformat_minor": 0
}
